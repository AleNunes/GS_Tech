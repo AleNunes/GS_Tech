{
 "cells": [
  {
   "cell_type": "markdown",
   "metadata": {},
   "source": [
    "## Desafio Tech Giant Steps\n",
    "##  Exemplo\n",
    "### Inputs\n",
    "#### start_date 2019-01-02\n",
    "\n",
    "#### end_date 2019-01-31\n",
    "\n",
    "### Outputs\n",
    " - Rentabilidade do período em porcentagem: 2,5406 %\n",
    " - Rentabilidade relativa ao CDI em porcentagem: 467,8768 %\n",
    " - Evolução do patrimônio do fundo em Reais (BRL): R$ 52.828.272,10\n",
    " - Data e o valor de maior retorno diário em porcentagem: 2019-01-02, 1,3983 %\n",
    " - Data e o valor de menor retorno diário em porcentagem: 2019-01-07, -0,9556 %\n",
    " - Série de retorno acumulado do fundo:\n",
    "\n",
    "|Data|\tRetorno Acumulado|\n",
    "|:---------|:----------|\n",
    "|2019-01-02|\t1.3983%|\n",
    "|2019-01-03|\t1.5597%|\n",
    "|2019-01-04|\t1.3118%|\n",
    "|2019-01-07|\t0.3436%|\n",
    "|2019-01-08|\t0.4664%|\n",
    "|2019-01-09|\t0.7862%|\n",
    "|2019-01-10|\t0.4035%|\n",
    "|2019-01-11|\t0.3816%|\n",
    "|2019-01-14|\t0.8947%|\n",
    "|2019-01-15|\t0.4789%|\n",
    "|2019-01-16|\t0.4023%|\n",
    "|2019-01-17|\t0.7056%|\n",
    "|2019-01-18|\t0.5959%|\n",
    "|2019-01-21|\t0.5130%|\n",
    "|2019-01-22|\t0.5043%|\n",
    "|2019-01-23|\t1.0036%|\n",
    "|2019-01-24|\t1.2778%|\n",
    "|2019-01-25|\t1.2283%|\n",
    "|2019-01-28|\t0.8988%|\n",
    "|2019-01-29|\t1.3156%|\n",
    "|2019-01-30|\t1.3889%|\n",
    "|2019-01-31|\t2.5406%|"
   ]
  },
  {
   "cell_type": "markdown",
   "metadata": {},
   "source": [
    "### Solução\n",
    "\n",
    "#### Disponibilizar API (Flask) e usar o Notebook como interface\n",
    "\n",
    "Por favor, certifique-se que o script \"app.py\" esteja rodando"
   ]
  },
  {
   "cell_type": "code",
   "execution_count": 3,
   "metadata": {},
   "outputs": [],
   "source": [
    "import pandas as pd\n",
    "import urllib.request, json"
   ]
  },
  {
   "cell_type": "markdown",
   "metadata": {},
   "source": [
    "Defina as datas de inicio e fim do periodo:"
   ]
  },
  {
   "cell_type": "code",
   "execution_count": 110,
   "metadata": {},
   "outputs": [],
   "source": [
    "dt_inicio = '2019-01-02'\n",
    "dt_fim = '2019-01-31'"
   ]
  },
  {
   "cell_type": "code",
   "execution_count": 111,
   "metadata": {},
   "outputs": [
    {
     "name": "stdout",
     "output_type": "stream",
     "text": [
      "<urlopen error [WinError 10061] Nenhuma conexão pôde ser feita porque a máquina de destino as recusou ativamente>\n"
     ]
    }
   ],
   "source": [
    "url_str = 'http://127.0.0.1:5000/fundo?dt_ini={}&dt_fim={}'.format(dt_inicio, dt_fim) \n",
    "#print(url_str)\n",
    "\n",
    "try:\n",
    "    with urllib.request.urlopen(url_str) as url:\n",
    "        #print(url.status)\n",
    "        data = json.loads(url.read().decode())\n",
    "        \n",
    "except Exception as err:\n",
    "    print(err)\n",
    "    \n",
    "\n",
    "    "
   ]
  },
  {
   "cell_type": "code",
   "execution_count": 112,
   "metadata": {},
   "outputs": [
    {
     "name": "stdout",
     "output_type": "stream",
     "text": [
      "Rentabilidade no período: 2.5406%\n",
      "Rentabilidade percentual do CDI: 467.8340%\n",
      "Evolução do PL: R$52,828,272.10\n",
      "Maior retorno diário foi de 1.3983% no dia 2019-01-02\n",
      "Menor retorno diário foi de -0.9556% no dia 2019-01-07\n",
      "2019-01-02   1.3983%\n",
      "2019-01-03   1.5597%\n",
      "2019-01-04   1.3118%\n",
      "2019-01-07   0.3436%\n",
      "2019-01-08   0.4664%\n",
      "2019-01-09   0.7862%\n",
      "2019-01-10   0.4035%\n",
      "2019-01-11   0.3816%\n",
      "2019-01-14   0.8947%\n",
      "2019-01-15   0.4789%\n",
      "2019-01-16   0.4023%\n",
      "2019-01-17   0.7056%\n",
      "2019-01-18   0.5959%\n",
      "2019-01-21   0.5130%\n",
      "2019-01-22   0.5043%\n",
      "2019-01-23   1.0036%\n",
      "2019-01-24   1.2778%\n",
      "2019-01-25   1.2283%\n",
      "2019-01-28   0.8988%\n",
      "2019-01-29   1.3156%\n",
      "2019-01-30   1.3889%\n",
      "2019-01-31   2.5406%\n",
      "Name: rent_acumulada, dtype: float64\n"
     ]
    }
   ],
   "source": [
    "if url.status==200:\n",
    "    \n",
    "    # Mostrando métricas retornadas pela API\n",
    "    print('Rentabilidade no período: {:.4%}'.format(data['Rent_Periodo']))\n",
    "    print('Rentabilidade percentual do CDI: {:.4%}'.format(data['Rent_CDI']))\n",
    "    print('Evolução do PL: R${:,.2f}'.format(data['Evolucao_PL']))\n",
    "    print('Maior retorno diário foi de {:.4%} no dia {}'.format(data['Max_Rent'][1], data['Max_Rent'][0]))\n",
    "    print('Menor retorno diário foi de {:.4%} no dia {}'.format(data['Min_Rent'][1], data['Min_Rent'][0]))   \n",
    "\n",
    "    \n",
    "    # Alterando padrão de formatação de numeros do Pandas\n",
    "    pd.options.display.float_format = '{:,.4%}'.format\n",
    "\n",
    "    # Carregando a Serie retornada pela API\n",
    "    df = pd.DataFrame.from_dict(data['Serie'], orient='index')    \n",
    "    print(df['rent_acumulada'])"
   ]
  },
  {
   "cell_type": "code",
   "execution_count": null,
   "metadata": {},
   "outputs": [],
   "source": []
  },
  {
   "cell_type": "code",
   "execution_count": null,
   "metadata": {},
   "outputs": [],
   "source": []
  },
  {
   "cell_type": "code",
   "execution_count": null,
   "metadata": {},
   "outputs": [],
   "source": []
  },
  {
   "cell_type": "code",
   "execution_count": null,
   "metadata": {},
   "outputs": [],
   "source": []
  }
 ],
 "metadata": {
  "kernelspec": {
   "display_name": "Python 3",
   "language": "python",
   "name": "python3"
  },
  "language_info": {
   "codemirror_mode": {
    "name": "ipython",
    "version": 3
   },
   "file_extension": ".py",
   "mimetype": "text/x-python",
   "name": "python",
   "nbconvert_exporter": "python",
   "pygments_lexer": "ipython3",
   "version": "3.8.3"
  }
 },
 "nbformat": 4,
 "nbformat_minor": 4
}
